{
 "cells": [
  {
   "cell_type": "markdown",
   "metadata": {},
   "source": [
    "## Assignment 3 - Competitive Assignment\n",
    "An explanation this assignment could be found in the .pdf explanation document"
   ]
  },
  {
   "cell_type": "markdown",
   "metadata": {},
   "source": [
    "### Preceding Step - import modules (packages)\n",
    "This step is necessary in order to use external modules (packages). <br/>"
   ]
  },
  {
   "cell_type": "code",
   "execution_count": 1,
   "metadata": {},
   "outputs": [],
   "source": [
    "# imports for reading and writing (input & output) files:\n",
    "import pandas as pd\n",
    "import os"
   ]
  },
  {
   "cell_type": "code",
   "execution_count": 2,
   "metadata": {},
   "outputs": [
    {
     "name": "stdout",
     "output_type": "stream",
     "text": [
      "Requirement already satisfied: wordcloud in c:\\users\\hansamal\\anaconda3\\lib\\site-packages (1.8.1)\n",
      "Requirement already satisfied: numpy>=1.6.1 in c:\\users\\hansamal\\appdata\\roaming\\python\\python37\\site-packages (from wordcloud) (1.19.5)\n",
      "Requirement already satisfied: matplotlib in c:\\users\\hansamal\\anaconda3\\lib\\site-packages (from wordcloud) (3.3.2)\n",
      "Requirement already satisfied: pillow in c:\\users\\hansamal\\anaconda3\\lib\\site-packages (from wordcloud) (8.0.1)\n",
      "Requirement already satisfied: kiwisolver>=1.0.1 in c:\\users\\hansamal\\anaconda3\\lib\\site-packages (from matplotlib->wordcloud) (1.3.0)\n",
      "Requirement already satisfied: certifi>=2020.06.20 in c:\\users\\hansamal\\anaconda3\\lib\\site-packages (from matplotlib->wordcloud) (2020.6.20)\n",
      "Requirement already satisfied: pyparsing!=2.0.4,!=2.1.2,!=2.1.6,>=2.0.3 in c:\\users\\hansamal\\anaconda3\\lib\\site-packages (from matplotlib->wordcloud) (2.4.7)\n",
      "Requirement already satisfied: cycler>=0.10 in c:\\users\\hansamal\\anaconda3\\lib\\site-packages (from matplotlib->wordcloud) (0.10.0)\n",
      "Requirement already satisfied: python-dateutil>=2.1 in c:\\users\\hansamal\\anaconda3\\lib\\site-packages (from matplotlib->wordcloud) (2.8.1)\n",
      "Requirement already satisfied: six in c:\\users\\hansamal\\anaconda3\\lib\\site-packages (from cycler>=0.10->matplotlib->wordcloud) (1.15.0)\n",
      "Requirement already satisfied: imbalanced-learn in c:\\users\\hansamal\\anaconda3\\lib\\site-packages (0.8.0)\n",
      "Requirement already satisfied: joblib>=0.11 in c:\\users\\hansamal\\anaconda3\\lib\\site-packages (from imbalanced-learn) (0.17.0)\n",
      "Requirement already satisfied: scikit-learn>=0.24 in c:\\users\\hansamal\\anaconda3\\lib\\site-packages (from imbalanced-learn) (0.24.2)\n",
      "Requirement already satisfied: scipy>=0.19.1 in c:\\users\\hansamal\\anaconda3\\lib\\site-packages (from imbalanced-learn) (1.4.1)\n",
      "Requirement already satisfied: numpy>=1.13.3 in c:\\users\\hansamal\\appdata\\roaming\\python\\python37\\site-packages (from imbalanced-learn) (1.19.5)\n",
      "Requirement already satisfied: threadpoolctl>=2.0.0 in c:\\users\\hansamal\\anaconda3\\lib\\site-packages (from scikit-learn>=0.24->imbalanced-learn) (2.1.0)\n"
     ]
    }
   ],
   "source": [
    "### add whatever imports you need\n",
    "# YOUR CODE HERE\n",
    "!pip install -r requirements.txt\n",
    "\n",
    "!pip install wordcloud\n",
    "!pip install imbalanced-learn\n",
    "\n",
    "from keras import optimizers\n",
    "from keras import backend as K\n",
    "from wordcloud import WordCloud\n",
    "from matplotlib import pyplot as plt\n",
    "from keras.utils import to_categorical\n",
    "from keras.models import Model\n",
    "from keras.layers import Dense, Dropout, Activation, Input, LSTM, Bidirectional,Embedding\n",
    "from keras.preprocessing import text, sequence\n",
    "from keras.utils.np_utils import to_categorical\n",
    "from sklearn.preprocessing import LabelEncoder\n",
    "from imblearn.over_sampling import RandomOverSampler\n",
    "from sklearn.model_selection import train_test_split\n",
    "from tensorflow.python.keras.preprocessing.text import Tokenizer\n",
    "from tensorflow.python.keras.preprocessing.sequence import pad_sequences\n",
    "\n",
    "import seaborn as sns\n",
    "import numpy as np"
   ]
  },
  {
   "cell_type": "markdown",
   "metadata": {},
   "source": [
    "### Reading input files\n",
    "Reading input files for train annotated corpus (raw text data) corpus and for the test corpus"
   ]
  },
  {
   "cell_type": "code",
   "execution_count": 3,
   "metadata": {},
   "outputs": [],
   "source": [
    "train_filename = 'annotated_corpus_for_train.xlsx'\n",
    "test_filename  = 'corpus_for_test.xlsx'\n",
    "df_train = pd.read_excel(train_filename, 'corpus', index_col=None, na_values=['NA'])\n",
    "df_test  = pd.read_excel(test_filename,  'corpus', index_col=None, na_values=['NA'])"
   ]
  },
  {
   "cell_type": "code",
   "execution_count": 4,
   "metadata": {},
   "outputs": [
    {
     "data": {
      "text/plain": [
       "364"
      ]
     },
     "execution_count": 4,
     "metadata": {},
     "output_type": "execute_result"
    }
   ],
   "source": [
    "len(df_train)"
   ]
  },
  {
   "cell_type": "code",
   "execution_count": 5,
   "metadata": {},
   "outputs": [
    {
     "data": {
      "text/html": [
       "<div>\n",
       "<style scoped>\n",
       "    .dataframe tbody tr th:only-of-type {\n",
       "        vertical-align: middle;\n",
       "    }\n",
       "\n",
       "    .dataframe tbody tr th {\n",
       "        vertical-align: top;\n",
       "    }\n",
       "\n",
       "    .dataframe thead th {\n",
       "        text-align: right;\n",
       "    }\n",
       "</style>\n",
       "<table border=\"1\" class=\"dataframe\">\n",
       "  <thead>\n",
       "    <tr style=\"text-align: right;\">\n",
       "      <th></th>\n",
       "      <th>story</th>\n",
       "      <th>gender</th>\n",
       "    </tr>\n",
       "  </thead>\n",
       "  <tbody>\n",
       "    <tr>\n",
       "      <th>0</th>\n",
       "      <td>בוקר אחד קמתי סהרורי יצאתי מהמיטה קצת מטושטש ,...</td>\n",
       "      <td>m</td>\n",
       "    </tr>\n",
       "    <tr>\n",
       "      <th>1</th>\n",
       "      <td>לחבר שלי היה יום הולדת וחיפשנו מה אפשר לעשות ל...</td>\n",
       "      <td>m</td>\n",
       "    </tr>\n",
       "    <tr>\n",
       "      <th>2</th>\n",
       "      <td>השנה האחרונה הייתה שנת קורונה, שנה לא פשוטה בק...</td>\n",
       "      <td>m</td>\n",
       "    </tr>\n",
       "    <tr>\n",
       "      <th>3</th>\n",
       "      <td>לפני כחצי שנה עברתי לגור בצפון עם בת זוגתי, עב...</td>\n",
       "      <td>m</td>\n",
       "    </tr>\n",
       "    <tr>\n",
       "      <th>4</th>\n",
       "      <td>יום חמישי רגיל, תמיד מתחיל לעבור טיפה מאוחר יו...</td>\n",
       "      <td>m</td>\n",
       "    </tr>\n",
       "    <tr>\n",
       "      <th>...</th>\n",
       "      <td>...</td>\n",
       "      <td>...</td>\n",
       "    </tr>\n",
       "    <tr>\n",
       "      <th>95</th>\n",
       "      <td>אז רציתי לספר לכם חוויה שעברתי אני יודעת מראש ...</td>\n",
       "      <td>f</td>\n",
       "    </tr>\n",
       "    <tr>\n",
       "      <th>96</th>\n",
       "      <td>כנשפתחה ההרשמה לקורסים של סמסטר א, ניסיתי כמו ...</td>\n",
       "      <td>m</td>\n",
       "    </tr>\n",
       "    <tr>\n",
       "      <th>97</th>\n",
       "      <td>השנה עברתי עם חברותי חוויה לא כל כך נעימה ואפש...</td>\n",
       "      <td>f</td>\n",
       "    </tr>\n",
       "    <tr>\n",
       "      <th>98</th>\n",
       "      <td>לא תמיד עולם הכושר נגע בי והאמת שלא דמיינתי שז...</td>\n",
       "      <td>m</td>\n",
       "    </tr>\n",
       "    <tr>\n",
       "      <th>99</th>\n",
       "      <td>אני סטודנט שנה ג במדעי המחשב ובשנה האחרונה אני...</td>\n",
       "      <td>m</td>\n",
       "    </tr>\n",
       "  </tbody>\n",
       "</table>\n",
       "<p>100 rows × 2 columns</p>\n",
       "</div>"
      ],
      "text/plain": [
       "                                                story gender\n",
       "0   בוקר אחד קמתי סהרורי יצאתי מהמיטה קצת מטושטש ,...      m\n",
       "1   לחבר שלי היה יום הולדת וחיפשנו מה אפשר לעשות ל...      m\n",
       "2   השנה האחרונה הייתה שנת קורונה, שנה לא פשוטה בק...      m\n",
       "3   לפני כחצי שנה עברתי לגור בצפון עם בת זוגתי, עב...      m\n",
       "4   יום חמישי רגיל, תמיד מתחיל לעבור טיפה מאוחר יו...      m\n",
       "..                                                ...    ...\n",
       "95  אז רציתי לספר לכם חוויה שעברתי אני יודעת מראש ...      f\n",
       "96  כנשפתחה ההרשמה לקורסים של סמסטר א, ניסיתי כמו ...      m\n",
       "97  השנה עברתי עם חברותי חוויה לא כל כך נעימה ואפש...      f\n",
       "98  לא תמיד עולם הכושר נגע בי והאמת שלא דמיינתי שז...      m\n",
       "99  אני סטודנט שנה ג במדעי המחשב ובשנה האחרונה אני...      m\n",
       "\n",
       "[100 rows x 2 columns]"
      ]
     },
     "execution_count": 5,
     "metadata": {},
     "output_type": "execute_result"
    }
   ],
   "source": [
    "df_train.head(100)"
   ]
  },
  {
   "cell_type": "code",
   "execution_count": 6,
   "metadata": {
    "scrolled": true
   },
   "outputs": [
    {
     "data": {
      "text/html": [
       "<div>\n",
       "<style scoped>\n",
       "    .dataframe tbody tr th:only-of-type {\n",
       "        vertical-align: middle;\n",
       "    }\n",
       "\n",
       "    .dataframe tbody tr th {\n",
       "        vertical-align: top;\n",
       "    }\n",
       "\n",
       "    .dataframe thead th {\n",
       "        text-align: right;\n",
       "    }\n",
       "</style>\n",
       "<table border=\"1\" class=\"dataframe\">\n",
       "  <thead>\n",
       "    <tr style=\"text-align: right;\">\n",
       "      <th></th>\n",
       "      <th>test_example_id</th>\n",
       "      <th>story</th>\n",
       "    </tr>\n",
       "  </thead>\n",
       "  <tbody>\n",
       "    <tr>\n",
       "      <th>0</th>\n",
       "      <td>0</td>\n",
       "      <td>כחלק ממסגרת ההתנדבות שלי במגלה אני הולך לפעמיי...</td>\n",
       "    </tr>\n",
       "    <tr>\n",
       "      <th>1</th>\n",
       "      <td>1</td>\n",
       "      <td>לפני שנה החלטתי שאני רוצה להיות טייס, התחלתי ל...</td>\n",
       "    </tr>\n",
       "    <tr>\n",
       "      <th>2</th>\n",
       "      <td>2</td>\n",
       "      <td>בתקופת הקורונה של תחילת החיסונים נגד קורונה, א...</td>\n",
       "    </tr>\n",
       "    <tr>\n",
       "      <th>3</th>\n",
       "      <td>3</td>\n",
       "      <td>כפי שכולם מכירים או שמעו מחברים עולם הדייטים ה...</td>\n",
       "    </tr>\n",
       "    <tr>\n",
       "      <th>4</th>\n",
       "      <td>4</td>\n",
       "      <td>אחת החוויות שהכי זכורות לי, זו החוויה בפרו בטי...</td>\n",
       "    </tr>\n",
       "  </tbody>\n",
       "</table>\n",
       "</div>"
      ],
      "text/plain": [
       "   test_example_id                                              story\n",
       "0                0  כחלק ממסגרת ההתנדבות שלי במגלה אני הולך לפעמיי...\n",
       "1                1  לפני שנה החלטתי שאני רוצה להיות טייס, התחלתי ל...\n",
       "2                2  בתקופת הקורונה של תחילת החיסונים נגד קורונה, א...\n",
       "3                3  כפי שכולם מכירים או שמעו מחברים עולם הדייטים ה...\n",
       "4                4  אחת החוויות שהכי זכורות לי, זו החוויה בפרו בטי..."
      ]
     },
     "execution_count": 6,
     "metadata": {},
     "output_type": "execute_result"
    }
   ],
   "source": [
    "df_test.head(5)"
   ]
  },
  {
   "cell_type": "markdown",
   "metadata": {},
   "source": [
    "### Your implementation:\n",
    "Write your code solution in the following code-cells"
   ]
  },
  {
   "cell_type": "code",
   "execution_count": 7,
   "metadata": {},
   "outputs": [
    {
     "name": "stdout",
     "output_type": "stream",
     "text": [
      "X token train shape: (364, 2)\n",
      "X token test shape: (156, 2)\n",
      "X token train shape: (364, 2)\n"
     ]
    }
   ],
   "source": [
    "#splitting train data\n",
    "train_data = df_train['story']\n",
    "train_target = df_train['gender']\n",
    "\n",
    "#splitting train data\n",
    "test_data = df_test['story']\n",
    "test_target = df_test['test_example_id']\n",
    "\n",
    "label_encode=LabelEncoder()\n",
    "\n",
    "df_train['gender'] = label_encode.fit_transform(df_train['gender']) # converting two class as numerical values\n",
    "train_target = to_categorical(df_train['gender'])\n",
    "\n",
    "df_test['test_example_id'] = label_encode.fit_transform(df_test['test_example_id']) # converting two class as numerical values\n",
    "\n",
    "print('X token train shape: {}'.format(df_train.shape))\n",
    "print('X token test shape: {}'.format(df_test.shape))\n",
    "\n",
    "print('X token train shape: {}'.format(train_target.shape))"
   ]
  },
  {
   "cell_type": "code",
   "execution_count": 8,
   "metadata": {},
   "outputs": [
    {
     "data": {
      "image/png": "[encoded data removed]",
      "text/plain": [
       "<Figure size 432x288 with 1 Axes>"
      ]
     },
     "metadata": {
      "needs_background": "light"
     },
     "output_type": "display_data"
    }
   ],
   "source": [
    "# given data visualization\n",
    "new_data = pd.DataFrame({'Gender': ['male', 'female'], 'Count': [df_train['gender'].value_counts()[1], df_train['gender'].value_counts()[0]]})\n",
    "ax = sns.barplot(x = 'Gender', y = 'Count', data = new_data, hue=\"Gender\", palette=\"Blues_d\")\n",
    "ax.set(xlabel='Gender', ylabel='Count')\n",
    "plt.show()"
   ]
  },
  {
   "cell_type": "code",
   "execution_count": 9,
   "metadata": {
    "scrolled": true
   },
   "outputs": [
    {
     "name": "stdout",
     "output_type": "stream",
     "text": [
      "0    בוקר אחד קמתי סהרורי יצאתי מהמיטה קצת מטושטש ,...\n",
      "1    לחבר שלי היה יום הולדת וחיפשנו מה אפשר לעשות ל...\n",
      "2    השנה האחרונה הייתה שנת קורונה, שנה לא פשוטה בק...\n",
      "3    לפני כחצי שנה עברתי לגור בצפון עם בת זוגתי, עב...\n",
      "4    יום חמישי רגיל, תמיד מתחיל לעבור טיפה מאוחר יו...\n",
      "Name: story, dtype: object\n"
     ]
    }
   ],
   "source": [
    "print(train_data[:5])"
   ]
  },
  {
   "cell_type": "code",
   "execution_count": 10,
   "metadata": {
    "scrolled": true
   },
   "outputs": [
    {
     "data": {
      "image/png": "[encoded data removed]",
      "text/plain": [
       "<Figure size 432x288 with 1 Axes>"
      ]
     },
     "metadata": {
      "needs_background": "light"
     },
     "output_type": "display_data"
    }
   ],
   "source": [
    "wordcloud = WordCloud(font_path=r'fonts/VarelaRound_Regular.ttf').generate(str(df_train['story']))\n",
    "plt.imshow(wordcloud, interpolation='bilinear')\n",
    "plt.axis(\"off\")\n",
    "plt.show()"
   ]
  },
  {
   "cell_type": "code",
   "execution_count": 11,
   "metadata": {},
   "outputs": [],
   "source": [
    "#function for word tokernizing\n",
    "def tokenizer(x_train, x_test, vocabulary_size, char_level):\n",
    "    tokenize = text.Tokenizer(num_words=vocabulary_size, \n",
    "                              char_level=char_level,\n",
    "                              filters='')\n",
    "    tokenize.fit_on_texts(x_train)  # only fit on train\n",
    "    #print('UNK index: {}'.format(tokenize.word_index['UNK']))\n",
    "    \n",
    "    x_train = tokenize.texts_to_sequences(x_train)\n",
    "    x_test = tokenize.texts_to_sequences(x_test)\n",
    "    \n",
    "    return x_train, x_test\n",
    "\n",
    "vocabulary_size = 200 #defines the vocabulary size\n",
    "\n",
    "x_token_train, x_token_test = tokenizer(train_data, test_data, vocabulary_size, False)\n",
    "\n",
    "max_document_length = 50 # maximum words for a story\n",
    "\n",
    "#data is adjusted according to the number of tokens specified\n",
    "x_token_train = pad_sequences(x_token_train, maxlen=max_document_length)\n",
    "x_token_test = pad_sequences(x_token_test, maxlen=max_document_length)"
   ]
  },
  {
   "cell_type": "code",
   "execution_count": 12,
   "metadata": {},
   "outputs": [],
   "source": [
    "# data split to find f1 score and train set\n",
    "x_token_train, x_f1, train_target, y_f1 = train_test_split(x_token_train,train_target,test_size = 0.05, random_state = 42) "
   ]
  },
  {
   "cell_type": "code",
   "execution_count": null,
   "metadata": {},
   "outputs": [],
   "source": [
    "count_m=0\n",
    "count_f=0\n",
    "\n",
    "oversample = RandomOverSampler(sampling_strategy='minority')\n",
    "X_over, y_over = oversample.fit_resample(x_token_train, train_target)\n",
    "\n",
    "for i in range(len(y_over)):\n",
    "    if y_over[i]==1:\n",
    "        count_m+=1\n",
    "    else:\n",
    "        count_f+=1\n",
    "\n",
    "y_over = to_categorical(y_over)"
   ]
  },
  {
   "cell_type": "code",
   "execution_count": 14,
   "metadata": {},
   "outputs": [
    {
     "data": {
      "image/png": "[encoded data removed]",
      "text/plain": [
       "<Figure size 432x288 with 1 Axes>"
      ]
     },
     "metadata": {
      "needs_background": "light"
     },
     "output_type": "display_data"
    }
   ],
   "source": [
    "# given data visualization\n",
    "new_data = pd.DataFrame({'Gender': ['male', 'female'], 'Count': [count_m, count_f]})\n",
    "ax = sns.barplot(x = 'Gender', y = 'Count', data = new_data, hue=\"Gender\", palette=\"Blues_d\")\n",
    "ax.set(xlabel='Gender', ylabel='Count')\n",
    "plt.show()"
   ]
  },
  {
   "cell_type": "code",
   "execution_count": 15,
   "metadata": {},
   "outputs": [
    {
     "name": "stdout",
     "output_type": "stream",
     "text": [
      "516 (516, 50)\n",
      "516 (516, 2)\n"
     ]
    }
   ],
   "source": [
    "print(len(X_over) , np.asarray(X_over).shape)\n",
    "print(len(y_over) , np.asarray(y_over).shape)"
   ]
  },
  {
   "cell_type": "code",
   "execution_count": 16,
   "metadata": {},
   "outputs": [],
   "source": [
    "dropout_keep_prob = 0.2 # defines drop-out probability\n",
    "embedding_size = 96 #size for embedding words\n",
    "batch_size = 32 # define batch size\n",
    "lr = 1e-3 #defines learning rate\n",
    "dev_size = 0.2 # defines validation split rate\n",
    "\n",
    "lstm_units = 32 # lstm units for layers\n",
    "\n",
    "# Create new TF graph\n",
    "K.clear_session()\n",
    "\n",
    "# Construct model\n",
    "text_input = Input(shape=(max_document_length,))\n",
    "\n",
    "x = Embedding(input_dim=vocabulary_size, output_dim=embedding_size)(text_input)\n",
    "x = Bidirectional(LSTM(units=lstm_units*3, return_sequences=True))(x)\n",
    "x = LSTM(units=lstm_units*2, return_sequences=False)(x)\n",
    "x = Dropout(dropout_keep_prob)(x)\n",
    "x = Dense(32, activation='tanh')(x)\n",
    "x = Dense(16, activation='relu')(x)\n",
    "x = Dropout(dropout_keep_prob)(x)\n",
    "preds = Dense(2, activation='sigmoid')(x)\n",
    "\n",
    "model = Model(text_input, preds) #model build\n",
    "\n",
    "adam = optimizers.Adam(lr=lr) # optimizer for the model\n",
    "\n",
    "model.compile(loss='binary_crossentropy',\n",
    "              optimizer=adam,\n",
    "              metrics=['accuracy'])"
   ]
  },
  {
   "cell_type": "code",
   "execution_count": 17,
   "metadata": {
    "scrolled": true
   },
   "outputs": [
    {
     "name": "stdout",
     "output_type": "stream",
     "text": [
      "Epoch 1/20\n",
      "13/13 - 43s - loss: 0.6897 - accuracy: 0.5850 - val_loss: 0.7516 - val_accuracy: 0.0000e+00\n",
      "Epoch 2/20\n",
      "13/13 - 2s - loss: 0.6673 - accuracy: 0.6262 - val_loss: 0.9273 - val_accuracy: 0.0000e+00\n",
      "Epoch 3/20\n",
      "13/13 - 2s - loss: 0.6359 - accuracy: 0.6383 - val_loss: 0.9661 - val_accuracy: 0.2115\n",
      "Epoch 4/20\n",
      "13/13 - 2s - loss: 0.5247 - accuracy: 0.7816 - val_loss: 0.8789 - val_accuracy: 0.4808\n",
      "Epoch 5/20\n",
      "13/13 - 2s - loss: 0.4520 - accuracy: 0.8374 - val_loss: 0.6000 - val_accuracy: 0.6154\n",
      "Epoch 6/20\n",
      "13/13 - 2s - loss: 0.3965 - accuracy: 0.8422 - val_loss: 0.7782 - val_accuracy: 0.5673\n",
      "Epoch 7/20\n",
      "13/13 - 2s - loss: 0.3544 - accuracy: 0.8762 - val_loss: 0.2980 - val_accuracy: 0.8173\n",
      "Epoch 8/20\n",
      "13/13 - 2s - loss: 0.3972 - accuracy: 0.8301 - val_loss: 0.6889 - val_accuracy: 0.5192\n",
      "Epoch 9/20\n",
      "13/13 - 2s - loss: 0.3408 - accuracy: 0.8908 - val_loss: 0.5809 - val_accuracy: 0.6827\n",
      "Epoch 10/20\n",
      "13/13 - 2s - loss: 0.3239 - accuracy: 0.8859 - val_loss: 0.4055 - val_accuracy: 0.7692\n",
      "Epoch 11/20\n",
      "13/13 - 3s - loss: 0.2834 - accuracy: 0.9199 - val_loss: 0.4189 - val_accuracy: 0.7596\n",
      "Epoch 12/20\n",
      "13/13 - 2s - loss: 0.2663 - accuracy: 0.9102 - val_loss: 0.2690 - val_accuracy: 0.8750\n",
      "Epoch 13/20\n",
      "13/13 - 2s - loss: 0.2304 - accuracy: 0.9345 - val_loss: 0.2741 - val_accuracy: 0.9231\n",
      "Epoch 14/20\n",
      "13/13 - 2s - loss: 0.2033 - accuracy: 0.9466 - val_loss: 0.3451 - val_accuracy: 0.8462\n",
      "Epoch 15/20\n",
      "13/13 - 2s - loss: 0.1794 - accuracy: 0.9490 - val_loss: 0.3018 - val_accuracy: 0.8846\n",
      "Epoch 16/20\n",
      "13/13 - 2s - loss: 0.1723 - accuracy: 0.9612 - val_loss: 0.2029 - val_accuracy: 0.9423\n",
      "Epoch 17/20\n",
      "13/13 - 2s - loss: 0.1515 - accuracy: 0.9709 - val_loss: 0.2272 - val_accuracy: 0.9231\n",
      "Epoch 18/20\n",
      "13/13 - 2s - loss: 0.1373 - accuracy: 0.9709 - val_loss: 0.1933 - val_accuracy: 0.9423\n",
      "Epoch 19/20\n",
      "13/13 - 2s - loss: 0.1549 - accuracy: 0.9636 - val_loss: 0.1980 - val_accuracy: 0.9423\n",
      "Epoch 20/20\n",
      "13/13 - 2s - loss: 0.1678 - accuracy: 0.9660 - val_loss: 0.1894 - val_accuracy: 0.9423\n"
     ]
    }
   ],
   "source": [
    "num_epochs = 20 #defines epochs\n",
    "\n",
    "history = model.fit(X_over, y_over,\n",
    "                    batch_size=batch_size,\n",
    "                    epochs=num_epochs,\n",
    "                    verbose=2,\n",
    "                    shuffle=True,\n",
    "                    validation_split=dev_size)"
   ]
  },
  {
   "cell_type": "code",
   "execution_count": 18,
   "metadata": {},
   "outputs": [
    {
     "data": {
      "image/png": "[encoded data removed]",
      "text/plain": [
       "<Figure size 432x288 with 2 Axes>"
      ]
     },
     "metadata": {
      "needs_background": "light"
     },
     "output_type": "display_data"
    }
   ],
   "source": [
    "# function for drawing the loss and accuracy curves\n",
    "def plot_loss_and_accuracy(history):\n",
    "    \n",
    "    fig, axs = plt.subplots(1, 2, sharex=True)\n",
    "    \n",
    "    axs[0].plot(history.history['loss'])\n",
    "    axs[0].plot(history.history['val_loss'])\n",
    "    axs[0].set_title('Model Loss')\n",
    "    axs[0].legend(['Train', 'Validation'], loc='upper right')\n",
    "    \n",
    "    axs[1].plot(history.history['accuracy'])\n",
    "    axs[1].plot(history.history['val_accuracy'])\n",
    "    axs[1].set_title('Model Accuracy')\n",
    "    axs[1].legend(['Train', 'Validation'], loc='lower right')\n",
    "    \n",
    "    fig.tight_layout()\n",
    "    plt.show()\n",
    "\n",
    "plot_loss_and_accuracy(history)"
   ]
  },
  {
   "cell_type": "markdown",
   "metadata": {},
   "source": [
    "### Save output to csv\n",
    "After you're done save your output to the 'classification_results.csv' csv file.<br/>\n",
    "We assume that the dataframe with your results contain the following columns:\n",
    "* column 1 (left column): 'test_example_id'  - the same id associated to each of the test stories to be predicted.\n",
    "* column 2 (right column): 'predicted_category' - the predicted gender value for each of the associated story. \n",
    "\n",
    "Assuming your predicted values are in the `df_predicted` dataframe, you should save you're results as following:"
   ]
  },
  {
   "cell_type": "code",
   "execution_count": null,
   "metadata": {},
   "outputs": [],
   "source": [
    "# same preprocessing for stories\n",
    "\n",
    "my_label_predict = model.predict(x_token_test)\n",
    "my_label_predict_argmax = np.argmax(my_label_predict, axis=-1)\n",
    "\n",
    "df = np.asarray(df_test['test_example_id']).reshape(-1,1)\n",
    "array=np.asarray(my_label_predict_argmax).reshape(-1,1)\n",
    "\n",
    "df_predicted = pd.DataFrame(np.concatenate((df, array), axis=1), columns=['test_example_id', 'predicted_category'])\n",
    "\n",
    "# Predicted label replacing \n",
    "for i in range(len(df_predicted['predicted_category'])):\n",
    "    if df_predicted['predicted_category'][i] == 0:\n",
    "        df_predicted['predicted_category'][i] = 'Female'\n",
    "    elif df_predicted['predicted_category'][i]==1:\n",
    "        df_predicted['predicted_category'][i] = 'Male'"
   ]
  },
  {
   "cell_type": "code",
   "execution_count": 20,
   "metadata": {},
   "outputs": [
    {
     "data": {
      "text/html": [
       "<div>\n",
       "<style scoped>\n",
       "    .dataframe tbody tr th:only-of-type {\n",
       "        vertical-align: middle;\n",
       "    }\n",
       "\n",
       "    .dataframe tbody tr th {\n",
       "        vertical-align: top;\n",
       "    }\n",
       "\n",
       "    .dataframe thead th {\n",
       "        text-align: right;\n",
       "    }\n",
       "</style>\n",
       "<table border=\"1\" class=\"dataframe\">\n",
       "  <thead>\n",
       "    <tr style=\"text-align: right;\">\n",
       "      <th></th>\n",
       "      <th>test_example_id</th>\n",
       "      <th>predicted_category</th>\n",
       "    </tr>\n",
       "  </thead>\n",
       "  <tbody>\n",
       "    <tr>\n",
       "      <th>0</th>\n",
       "      <td>0</td>\n",
       "      <td>Male</td>\n",
       "    </tr>\n",
       "    <tr>\n",
       "      <th>1</th>\n",
       "      <td>1</td>\n",
       "      <td>Male</td>\n",
       "    </tr>\n",
       "    <tr>\n",
       "      <th>2</th>\n",
       "      <td>2</td>\n",
       "      <td>Male</td>\n",
       "    </tr>\n",
       "    <tr>\n",
       "      <th>3</th>\n",
       "      <td>3</td>\n",
       "      <td>Male</td>\n",
       "    </tr>\n",
       "    <tr>\n",
       "      <th>4</th>\n",
       "      <td>4</td>\n",
       "      <td>Female</td>\n",
       "    </tr>\n",
       "    <tr>\n",
       "      <th>...</th>\n",
       "      <td>...</td>\n",
       "      <td>...</td>\n",
       "    </tr>\n",
       "    <tr>\n",
       "      <th>151</th>\n",
       "      <td>151</td>\n",
       "      <td>Male</td>\n",
       "    </tr>\n",
       "    <tr>\n",
       "      <th>152</th>\n",
       "      <td>152</td>\n",
       "      <td>Male</td>\n",
       "    </tr>\n",
       "    <tr>\n",
       "      <th>153</th>\n",
       "      <td>153</td>\n",
       "      <td>Male</td>\n",
       "    </tr>\n",
       "    <tr>\n",
       "      <th>154</th>\n",
       "      <td>154</td>\n",
       "      <td>Female</td>\n",
       "    </tr>\n",
       "    <tr>\n",
       "      <th>155</th>\n",
       "      <td>155</td>\n",
       "      <td>Male</td>\n",
       "    </tr>\n",
       "  </tbody>\n",
       "</table>\n",
       "<p>156 rows × 2 columns</p>\n",
       "</div>"
      ],
      "text/plain": [
       "     test_example_id predicted_category\n",
       "0                  0               Male\n",
       "1                  1               Male\n",
       "2                  2               Male\n",
       "3                  3               Male\n",
       "4                  4             Female\n",
       "..               ...                ...\n",
       "151              151               Male\n",
       "152              152               Male\n",
       "153              153               Male\n",
       "154              154             Female\n",
       "155              155               Male\n",
       "\n",
       "[156 rows x 2 columns]"
      ]
     },
     "execution_count": 20,
     "metadata": {},
     "output_type": "execute_result"
    }
   ],
   "source": [
    "df_predicted"
   ]
  },
  {
   "cell_type": "code",
   "execution_count": 21,
   "metadata": {},
   "outputs": [],
   "source": [
    "df_predicted.to_csv('classification_results.csv',index=False) # save csv"
   ]
  },
  {
   "cell_type": "code",
   "execution_count": 22,
   "metadata": {},
   "outputs": [
    {
     "name": "stdout",
     "output_type": "stream",
     "text": [
      "F1 score is 0.8275862068965517\n"
     ]
    }
   ],
   "source": [
    "from sklearn.metrics import f1_score\n",
    "\n",
    "y_pred = model.predict(x_f1)\n",
    "y_pred = np.argmax(y_pred, axis=-1)\n",
    "y_orig = np.argmax(y_f1, axis=-1)\n",
    "\n",
    "print('F1 score is', f1_score(y_orig, y_pred))"
   ]
  },
  {
   "cell_type": "code",
   "execution_count": null,
   "metadata": {},
   "outputs": [],
   "source": []
  }
 ],
 "metadata": {
  "kernelspec": {
   "display_name": "Python 3",
   "language": "python",
   "name": "python3"
  },
  "language_info": {
   "codemirror_mode": {
    "name": "ipython",
    "version": 3
   },
   "file_extension": ".py",
   "mimetype": "text/x-python",
   "name": "python",
   "nbconvert_exporter": "python",
   "pygments_lexer": "ipython3",
   "version": "3.7.9"
  }
 },
 "nbformat": 4,
 "nbformat_minor": 4
}
