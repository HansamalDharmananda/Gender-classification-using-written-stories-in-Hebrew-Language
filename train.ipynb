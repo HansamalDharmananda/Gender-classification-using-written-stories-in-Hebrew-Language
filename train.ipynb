{
 "cells": [
  {
   "cell_type": "markdown",
   "metadata": {},
   "source": [
    "## Assignment 3 - Competitive Assignment\n",
    "An explanation this assignment could be found in the .pdf explanation document"
   ]
  },
  {
   "cell_type": "markdown",
   "metadata": {},
   "source": [
    "### Preceding Step - import modules (packages)\n",
    "This step is necessary in order to use external modules (packages). <br/>"
   ]
  },
  {
   "cell_type": "code",
   "execution_count": 1,
   "metadata": {},
   "outputs": [],
   "source": [
    "# imports for reading and writing (input & output) files:\n",
    "import pandas as pd\n",
    "import os"
   ]
  },
  {
   "cell_type": "code",
   "execution_count": 2,
   "metadata": {},
   "outputs": [
    {
     "name": "stdout",
     "output_type": "stream",
     "text": [
      "Requirement already satisfied: wordcloud in c:\\users\\hansamal\\anaconda3\\lib\\site-packages (1.8.1)\n",
      "Requirement already satisfied: pillow in c:\\users\\hansamal\\anaconda3\\lib\\site-packages (from wordcloud) (8.0.1)\n",
      "Requirement already satisfied: matplotlib in c:\\users\\hansamal\\anaconda3\\lib\\site-packages (from wordcloud) (3.3.2)\n",
      "Requirement already satisfied: numpy>=1.6.1 in c:\\users\\hansamal\\appdata\\roaming\\python\\python37\\site-packages (from wordcloud) (1.19.5)\n",
      "Requirement already satisfied: python-dateutil>=2.1 in c:\\users\\hansamal\\anaconda3\\lib\\site-packages (from matplotlib->wordcloud) (2.8.1)\n",
      "Requirement already satisfied: kiwisolver>=1.0.1 in c:\\users\\hansamal\\anaconda3\\lib\\site-packages (from matplotlib->wordcloud) (1.3.0)\n",
      "Requirement already satisfied: certifi>=2020.06.20 in c:\\users\\hansamal\\anaconda3\\lib\\site-packages (from matplotlib->wordcloud) (2020.6.20)\n",
      "Requirement already satisfied: pyparsing!=2.0.4,!=2.1.2,!=2.1.6,>=2.0.3 in c:\\users\\hansamal\\anaconda3\\lib\\site-packages (from matplotlib->wordcloud) (2.4.7)\n",
      "Requirement already satisfied: cycler>=0.10 in c:\\users\\hansamal\\anaconda3\\lib\\site-packages (from matplotlib->wordcloud) (0.10.0)\n",
      "Requirement already satisfied: six>=1.5 in c:\\users\\hansamal\\anaconda3\\lib\\site-packages (from python-dateutil>=2.1->matplotlib->wordcloud) (1.15.0)\n"
     ]
    }
   ],
   "source": [
    "### add whatever imports you need\n",
    "# YOUR CODE HERE\n",
    "!pip install wordcloud\n",
    "\n",
    "from keras import optimizers\n",
    "from keras import backend as K\n",
    "from wordcloud import WordCloud\n",
    "from matplotlib import pyplot as plt\n",
    "from keras.utils import to_categorical\n",
    "from keras.models import Model\n",
    "from keras.layers import Dense, Dropout, Activation, Input, LSTM, Bidirectional,Embedding\n",
    "from keras.preprocessing import text, sequence\n",
    "from keras.utils.np_utils import to_categorical\n",
    "from sklearn.preprocessing import LabelEncoder\n",
    "from sklearn.model_selection import train_test_split\n",
    "from tensorflow.python.keras.preprocessing.text import Tokenizer\n",
    "from tensorflow.python.keras.preprocessing.sequence import pad_sequences\n",
    "\n",
    "import seaborn as sns\n",
    "import numpy as np"
   ]
  },
  {
   "cell_type": "markdown",
   "metadata": {},
   "source": [
    "### Reading input files\n",
    "Reading input files for train annotated corpus (raw text data) corpus and for the test corpus"
   ]
  },
  {
   "cell_type": "code",
   "execution_count": 3,
   "metadata": {},
   "outputs": [],
   "source": [
    "train_filename = 'annotated_corpus_for_train.xlsx'\n",
    "test_filename  = 'corpus_for_test.xlsx'\n",
    "df_train = pd.read_excel(train_filename, 'corpus', index_col=None, na_values=['NA'])\n",
    "df_test  = pd.read_excel(test_filename,  'corpus', index_col=None, na_values=['NA'])"
   ]
  },
  {
   "cell_type": "code",
   "execution_count": 4,
   "metadata": {},
   "outputs": [
    {
     "data": {
      "text/plain": [
       "364"
      ]
     },
     "execution_count": 4,
     "metadata": {},
     "output_type": "execute_result"
    }
   ],
   "source": [
    "len(df_train)"
   ]
  },
  {
   "cell_type": "code",
   "execution_count": 5,
   "metadata": {},
   "outputs": [
    {
     "data": {
      "text/html": [
       "<div>\n",
       "<style scoped>\n",
       "    .dataframe tbody tr th:only-of-type {\n",
       "        vertical-align: middle;\n",
       "    }\n",
       "\n",
       "    .dataframe tbody tr th {\n",
       "        vertical-align: top;\n",
       "    }\n",
       "\n",
       "    .dataframe thead th {\n",
       "        text-align: right;\n",
       "    }\n",
       "</style>\n",
       "<table border=\"1\" class=\"dataframe\">\n",
       "  <thead>\n",
       "    <tr style=\"text-align: right;\">\n",
       "      <th></th>\n",
       "      <th>story</th>\n",
       "      <th>gender</th>\n",
       "    </tr>\n",
       "  </thead>\n",
       "  <tbody>\n",
       "    <tr>\n",
       "      <th>0</th>\n",
       "      <td>בוקר אחד קמתי סהרורי יצאתי מהמיטה קצת מטושטש ,...</td>\n",
       "      <td>m</td>\n",
       "    </tr>\n",
       "    <tr>\n",
       "      <th>1</th>\n",
       "      <td>לחבר שלי היה יום הולדת וחיפשנו מה אפשר לעשות ל...</td>\n",
       "      <td>m</td>\n",
       "    </tr>\n",
       "    <tr>\n",
       "      <th>2</th>\n",
       "      <td>השנה האחרונה הייתה שנת קורונה, שנה לא פשוטה בק...</td>\n",
       "      <td>m</td>\n",
       "    </tr>\n",
       "    <tr>\n",
       "      <th>3</th>\n",
       "      <td>לפני כחצי שנה עברתי לגור בצפון עם בת זוגתי, עב...</td>\n",
       "      <td>m</td>\n",
       "    </tr>\n",
       "    <tr>\n",
       "      <th>4</th>\n",
       "      <td>יום חמישי רגיל, תמיד מתחיל לעבור טיפה מאוחר יו...</td>\n",
       "      <td>m</td>\n",
       "    </tr>\n",
       "    <tr>\n",
       "      <th>5</th>\n",
       "      <td>בשנה האחרונה חוויתי את מגפת הקורונה שהכריח את ...</td>\n",
       "      <td>m</td>\n",
       "    </tr>\n",
       "    <tr>\n",
       "      <th>6</th>\n",
       "      <td>בסמסטר קודם אני וכמה חברים ללימודים קבענו להיפ...</td>\n",
       "      <td>m</td>\n",
       "    </tr>\n",
       "    <tr>\n",
       "      <th>7</th>\n",
       "      <td>בשנה האחרונה למרות שלא היו יותר מידיי דברים לע...</td>\n",
       "      <td>f</td>\n",
       "    </tr>\n",
       "  </tbody>\n",
       "</table>\n",
       "</div>"
      ],
      "text/plain": [
       "                                               story gender\n",
       "0  בוקר אחד קמתי סהרורי יצאתי מהמיטה קצת מטושטש ,...      m\n",
       "1  לחבר שלי היה יום הולדת וחיפשנו מה אפשר לעשות ל...      m\n",
       "2  השנה האחרונה הייתה שנת קורונה, שנה לא פשוטה בק...      m\n",
       "3  לפני כחצי שנה עברתי לגור בצפון עם בת זוגתי, עב...      m\n",
       "4  יום חמישי רגיל, תמיד מתחיל לעבור טיפה מאוחר יו...      m\n",
       "5  בשנה האחרונה חוויתי את מגפת הקורונה שהכריח את ...      m\n",
       "6  בסמסטר קודם אני וכמה חברים ללימודים קבענו להיפ...      m\n",
       "7  בשנה האחרונה למרות שלא היו יותר מידיי דברים לע...      f"
      ]
     },
     "execution_count": 5,
     "metadata": {},
     "output_type": "execute_result"
    }
   ],
   "source": [
    "df_train.head(8)"
   ]
  },
  {
   "cell_type": "code",
   "execution_count": 6,
   "metadata": {
    "scrolled": true
   },
   "outputs": [
    {
     "data": {
      "text/html": [
       "<div>\n",
       "<style scoped>\n",
       "    .dataframe tbody tr th:only-of-type {\n",
       "        vertical-align: middle;\n",
       "    }\n",
       "\n",
       "    .dataframe tbody tr th {\n",
       "        vertical-align: top;\n",
       "    }\n",
       "\n",
       "    .dataframe thead th {\n",
       "        text-align: right;\n",
       "    }\n",
       "</style>\n",
       "<table border=\"1\" class=\"dataframe\">\n",
       "  <thead>\n",
       "    <tr style=\"text-align: right;\">\n",
       "      <th></th>\n",
       "      <th>test_example_id</th>\n",
       "      <th>story</th>\n",
       "    </tr>\n",
       "  </thead>\n",
       "  <tbody>\n",
       "    <tr>\n",
       "      <th>0</th>\n",
       "      <td>0</td>\n",
       "      <td>כחלק ממסגרת ההתנדבות שלי במגלה אני הולך לפעמיי...</td>\n",
       "    </tr>\n",
       "    <tr>\n",
       "      <th>1</th>\n",
       "      <td>1</td>\n",
       "      <td>לפני שנה החלטתי שאני רוצה להיות טייס, התחלתי ל...</td>\n",
       "    </tr>\n",
       "    <tr>\n",
       "      <th>2</th>\n",
       "      <td>2</td>\n",
       "      <td>בתקופת הקורונה של תחילת החיסונים נגד קורונה, א...</td>\n",
       "    </tr>\n",
       "    <tr>\n",
       "      <th>3</th>\n",
       "      <td>3</td>\n",
       "      <td>כפי שכולם מכירים או שמעו מחברים עולם הדייטים ה...</td>\n",
       "    </tr>\n",
       "    <tr>\n",
       "      <th>4</th>\n",
       "      <td>4</td>\n",
       "      <td>אחת החוויות שהכי זכורות לי, זו החוויה בפרו בטי...</td>\n",
       "    </tr>\n",
       "  </tbody>\n",
       "</table>\n",
       "</div>"
      ],
      "text/plain": [
       "   test_example_id                                              story\n",
       "0                0  כחלק ממסגרת ההתנדבות שלי במגלה אני הולך לפעמיי...\n",
       "1                1  לפני שנה החלטתי שאני רוצה להיות טייס, התחלתי ל...\n",
       "2                2  בתקופת הקורונה של תחילת החיסונים נגד קורונה, א...\n",
       "3                3  כפי שכולם מכירים או שמעו מחברים עולם הדייטים ה...\n",
       "4                4  אחת החוויות שהכי זכורות לי, זו החוויה בפרו בטי..."
      ]
     },
     "execution_count": 6,
     "metadata": {},
     "output_type": "execute_result"
    }
   ],
   "source": [
    "df_test.head(5)"
   ]
  },
  {
   "cell_type": "markdown",
   "metadata": {},
   "source": [
    "### Your implementation:\n",
    "Write your code solution in the following code-cells"
   ]
  },
  {
   "cell_type": "code",
   "execution_count": 7,
   "metadata": {},
   "outputs": [
    {
     "name": "stdout",
     "output_type": "stream",
     "text": [
      "X token train shape: (364, 2)\n",
      "X token test shape: (156, 2)\n",
      "X token train shape: (364, 2)\n"
     ]
    }
   ],
   "source": [
    "#splitting train data\n",
    "train_data = df_train['story']\n",
    "train_target = df_train['gender']\n",
    "\n",
    "#splitting train data\n",
    "test_data = df_test['story']\n",
    "test_target = df_test['test_example_id']\n",
    "\n",
    "label_encode=LabelEncoder()\n",
    "\n",
    "df_train['gender'] = label_encode.fit_transform(df_train['gender']) # converting two class as numerical values\n",
    "train_target = to_categorical(df_train['gender'])\n",
    "\n",
    "df_test['test_example_id'] = label_encode.fit_transform(df_test['test_example_id']) # converting two class as numerical values\n",
    "\n",
    "print('X token train shape: {}'.format(df_train.shape))\n",
    "print('X token test shape: {}'.format(df_test.shape))\n",
    "\n",
    "print('X token train shape: {}'.format(train_target.shape))"
   ]
  },
  {
   "cell_type": "code",
   "execution_count": 8,
   "metadata": {},
   "outputs": [
    {
     "data": {
      "image/png": "[encoded data removed]",
      "text/plain": [
       "<Figure size 432x288 with 1 Axes>"
      ]
     },
     "metadata": {
      "needs_background": "light"
     },
     "output_type": "display_data"
    }
   ],
   "source": [
    "sns.countplot(x=df_train['gender']) # count of each classes\n",
    "plt.grid()"
   ]
  },
  {
   "cell_type": "code",
   "execution_count": 9,
   "metadata": {
    "scrolled": true
   },
   "outputs": [
    {
     "name": "stdout",
     "output_type": "stream",
     "text": [
      "0    בוקר אחד קמתי סהרורי יצאתי מהמיטה קצת מטושטש ,...\n",
      "1    לחבר שלי היה יום הולדת וחיפשנו מה אפשר לעשות ל...\n",
      "2    השנה האחרונה הייתה שנת קורונה, שנה לא פשוטה בק...\n",
      "3    לפני כחצי שנה עברתי לגור בצפון עם בת זוגתי, עב...\n",
      "4    יום חמישי רגיל, תמיד מתחיל לעבור טיפה מאוחר יו...\n",
      "Name: story, dtype: object\n"
     ]
    }
   ],
   "source": [
    "print(train_data[:5])"
   ]
  },
  {
   "cell_type": "code",
   "execution_count": 10,
   "metadata": {
    "scrolled": true
   },
   "outputs": [
    {
     "data": {
      "image/png": "[encoded data removed]",
      "text/plain": [
       "<Figure size 432x288 with 1 Axes>"
      ]
     },
     "metadata": {
      "needs_background": "light"
     },
     "output_type": "display_data"
    }
   ],
   "source": [
    "wordcloud = WordCloud(font_path=r'fonts/VarelaRound_Regular.ttf').generate(str(df_train['story']))\n",
    "plt.imshow(wordcloud, interpolation='bilinear')\n",
    "plt.axis(\"off\")\n",
    "plt.show()"
   ]
  },
  {
   "cell_type": "code",
   "execution_count": 11,
   "metadata": {},
   "outputs": [],
   "source": [
    "#function for word tokernizing\n",
    "def tokenizer(x_train, x_test, vocabulary_size, char_level):\n",
    "    tokenize = text.Tokenizer(num_words=vocabulary_size, \n",
    "                              char_level=char_level,\n",
    "                              filters='')\n",
    "    tokenize.fit_on_texts(x_train)  # only fit on train\n",
    "    #print('UNK index: {}'.format(tokenize.word_index['UNK']))\n",
    "    \n",
    "    x_train = tokenize.texts_to_sequences(x_train)\n",
    "    x_test = tokenize.texts_to_sequences(x_test)\n",
    "    \n",
    "    return x_train, x_test\n",
    "\n",
    "vocabulary_size = 200 #defines the vocabulary size\n",
    "\n",
    "x_token_train, x_token_test = tokenizer(train_data, test_data, vocabulary_size, False)\n",
    "\n",
    "max_document_length = 50 # maximum words for a story\n",
    "\n",
    "#data is adjusted according to the number of tokens specified\n",
    "x_token_train = pad_sequences(x_token_train, maxlen=max_document_length)\n",
    "x_token_test = pad_sequences(x_token_test, maxlen=max_document_length)"
   ]
  },
  {
   "cell_type": "code",
   "execution_count": 12,
   "metadata": {},
   "outputs": [],
   "source": [
    "# data split to find f1 score and train set\n",
    "x_token_train, x_f1, train_target, y_f1 = train_test_split(x_token_train,train_target,test_size = 0.05, random_state = 42) "
   ]
  },
  {
   "cell_type": "code",
   "execution_count": 13,
   "metadata": {},
   "outputs": [
    {
     "name": "stdout",
     "output_type": "stream",
     "text": [
      "345 (345, 50)\n",
      "156 (156, 50)\n"
     ]
    }
   ],
   "source": [
    "print(len(x_token_train) , np.asarray(x_token_train).shape)\n",
    "print(len(x_token_test) , np.asarray(x_token_test).shape)"
   ]
  },
  {
   "cell_type": "code",
   "execution_count": 14,
   "metadata": {},
   "outputs": [],
   "source": [
    "dropout_keep_prob = 0.2 # defines drop-out probability\n",
    "embedding_size = 96 #size for embedding words\n",
    "batch_size = 4 # define batch size\n",
    "lr = 1e-6 #defines learning rate\n",
    "dev_size = 0.2 # defines validation split rate\n",
    "\n",
    "lstm_units = 32 # lstm units for layers\n",
    "\n",
    "# Create new TF graph\n",
    "K.clear_session()\n",
    "\n",
    "# Construct model\n",
    "text_input = Input(shape=(max_document_length,))\n",
    "\n",
    "x = Embedding(input_dim=vocabulary_size, output_dim=embedding_size)(text_input)\n",
    "x = Bidirectional(LSTM(units=lstm_units*4, return_sequences=True))(x)\n",
    "x = LSTM(units=lstm_units*2, return_sequences=False)(x)\n",
    "x = Dropout(dropout_keep_prob)(x)\n",
    "x = Dense(32, activation='tanh')(x)\n",
    "x = Dense(16, activation='relu')(x)\n",
    "x = Dropout(dropout_keep_prob)(x)\n",
    "preds = Dense(2, activation='sigmoid')(x)\n",
    "\n",
    "model = Model(text_input, preds) #model build\n",
    "\n",
    "adam = optimizers.Adam(lr=lr) # optimizer for the model\n",
    "\n",
    "model.compile(loss='binary_crossentropy',\n",
    "              optimizer=adam,\n",
    "              metrics=['accuracy'])"
   ]
  },
  {
   "cell_type": "code",
   "execution_count": 15,
   "metadata": {
    "scrolled": true
   },
   "outputs": [
    {
     "name": "stdout",
     "output_type": "stream",
     "text": [
      "Epoch 1/100\n",
      "69/69 - 11s - loss: 0.6928 - accuracy: 0.5616 - val_loss: 0.6924 - val_accuracy: 0.6667\n",
      "Epoch 2/100\n",
      "69/69 - 3s - loss: 0.6922 - accuracy: 0.6051 - val_loss: 0.6921 - val_accuracy: 0.6812\n",
      "Epoch 3/100\n",
      "69/69 - 3s - loss: 0.6922 - accuracy: 0.6667 - val_loss: 0.6919 - val_accuracy: 0.6957\n",
      "Epoch 4/100\n",
      "69/69 - 3s - loss: 0.6916 - accuracy: 0.6993 - val_loss: 0.6916 - val_accuracy: 0.7246\n",
      "Epoch 5/100\n",
      "69/69 - 3s - loss: 0.6917 - accuracy: 0.6993 - val_loss: 0.6914 - val_accuracy: 0.7391\n",
      "Epoch 6/100\n",
      "69/69 - 3s - loss: 0.6914 - accuracy: 0.6848 - val_loss: 0.6911 - val_accuracy: 0.7536\n",
      "Epoch 7/100\n",
      "69/69 - 3s - loss: 0.6911 - accuracy: 0.7174 - val_loss: 0.6908 - val_accuracy: 0.7536\n",
      "Epoch 8/100\n",
      "69/69 - 3s - loss: 0.6912 - accuracy: 0.6848 - val_loss: 0.6904 - val_accuracy: 0.7536\n",
      "Epoch 9/100\n",
      "69/69 - 3s - loss: 0.6909 - accuracy: 0.6993 - val_loss: 0.6901 - val_accuracy: 0.7536\n",
      "Epoch 10/100\n",
      "69/69 - 3s - loss: 0.6905 - accuracy: 0.7319 - val_loss: 0.6898 - val_accuracy: 0.7536\n",
      "Epoch 11/100\n",
      "69/69 - 3s - loss: 0.6905 - accuracy: 0.7246 - val_loss: 0.6895 - val_accuracy: 0.7536\n",
      "Epoch 12/100\n",
      "69/69 - 3s - loss: 0.6901 - accuracy: 0.7101 - val_loss: 0.6892 - val_accuracy: 0.7536\n",
      "Epoch 13/100\n",
      "69/69 - 3s - loss: 0.6895 - accuracy: 0.7464 - val_loss: 0.6889 - val_accuracy: 0.7536\n",
      "Epoch 14/100\n",
      "69/69 - 3s - loss: 0.6889 - accuracy: 0.7391 - val_loss: 0.6885 - val_accuracy: 0.7536\n",
      "Epoch 15/100\n",
      "69/69 - 3s - loss: 0.6889 - accuracy: 0.7428 - val_loss: 0.6881 - val_accuracy: 0.7536\n",
      "Epoch 16/100\n",
      "69/69 - 3s - loss: 0.6883 - accuracy: 0.7428 - val_loss: 0.6878 - val_accuracy: 0.7536\n",
      "Epoch 17/100\n",
      "69/69 - 3s - loss: 0.6877 - accuracy: 0.7428 - val_loss: 0.6873 - val_accuracy: 0.7536\n",
      "Epoch 18/100\n",
      "69/69 - 3s - loss: 0.6877 - accuracy: 0.7428 - val_loss: 0.6870 - val_accuracy: 0.7536\n",
      "Epoch 19/100\n",
      "69/69 - 3s - loss: 0.6871 - accuracy: 0.7391 - val_loss: 0.6866 - val_accuracy: 0.7536\n",
      "Epoch 20/100\n",
      "69/69 - 3s - loss: 0.6870 - accuracy: 0.7500 - val_loss: 0.6862 - val_accuracy: 0.7536\n",
      "Epoch 21/100\n",
      "69/69 - 3s - loss: 0.6864 - accuracy: 0.7464 - val_loss: 0.6858 - val_accuracy: 0.7536\n",
      "Epoch 22/100\n",
      "69/69 - 3s - loss: 0.6860 - accuracy: 0.7464 - val_loss: 0.6854 - val_accuracy: 0.7536\n",
      "Epoch 23/100\n",
      "69/69 - 3s - loss: 0.6856 - accuracy: 0.7428 - val_loss: 0.6849 - val_accuracy: 0.7536\n",
      "Epoch 24/100\n",
      "69/69 - 3s - loss: 0.6856 - accuracy: 0.7464 - val_loss: 0.6846 - val_accuracy: 0.7536\n",
      "Epoch 25/100\n",
      "69/69 - 3s - loss: 0.6847 - accuracy: 0.7464 - val_loss: 0.6841 - val_accuracy: 0.7536\n",
      "Epoch 26/100\n",
      "69/69 - 3s - loss: 0.6838 - accuracy: 0.7428 - val_loss: 0.6837 - val_accuracy: 0.7536\n",
      "Epoch 27/100\n",
      "69/69 - 3s - loss: 0.6841 - accuracy: 0.7464 - val_loss: 0.6832 - val_accuracy: 0.7536\n",
      "Epoch 28/100\n",
      "69/69 - 3s - loss: 0.6836 - accuracy: 0.7464 - val_loss: 0.6828 - val_accuracy: 0.7536\n",
      "Epoch 29/100\n",
      "69/69 - 3s - loss: 0.6839 - accuracy: 0.7464 - val_loss: 0.6823 - val_accuracy: 0.7536\n",
      "Epoch 30/100\n",
      "69/69 - 3s - loss: 0.6826 - accuracy: 0.7464 - val_loss: 0.6819 - val_accuracy: 0.7536\n",
      "Epoch 31/100\n",
      "69/69 - 3s - loss: 0.6823 - accuracy: 0.7464 - val_loss: 0.6814 - val_accuracy: 0.7536\n",
      "Epoch 32/100\n",
      "69/69 - 3s - loss: 0.6811 - accuracy: 0.7464 - val_loss: 0.6809 - val_accuracy: 0.7536\n",
      "Epoch 33/100\n",
      "69/69 - 3s - loss: 0.6814 - accuracy: 0.7464 - val_loss: 0.6804 - val_accuracy: 0.7536\n",
      "Epoch 34/100\n",
      "69/69 - 3s - loss: 0.6802 - accuracy: 0.7464 - val_loss: 0.6798 - val_accuracy: 0.7536\n",
      "Epoch 35/100\n",
      "69/69 - 3s - loss: 0.6800 - accuracy: 0.7464 - val_loss: 0.6793 - val_accuracy: 0.7536\n",
      "Epoch 36/100\n",
      "69/69 - 3s - loss: 0.6787 - accuracy: 0.7464 - val_loss: 0.6787 - val_accuracy: 0.7536\n",
      "Epoch 37/100\n",
      "69/69 - 3s - loss: 0.6784 - accuracy: 0.7464 - val_loss: 0.6782 - val_accuracy: 0.7536\n",
      "Epoch 38/100\n",
      "69/69 - 4s - loss: 0.6781 - accuracy: 0.7464 - val_loss: 0.6775 - val_accuracy: 0.7536\n",
      "Epoch 39/100\n",
      "69/69 - 3s - loss: 0.6780 - accuracy: 0.7464 - val_loss: 0.6770 - val_accuracy: 0.7536\n",
      "Epoch 40/100\n",
      "69/69 - 3s - loss: 0.6771 - accuracy: 0.7464 - val_loss: 0.6764 - val_accuracy: 0.7536\n",
      "Epoch 41/100\n",
      "69/69 - 3s - loss: 0.6770 - accuracy: 0.7464 - val_loss: 0.6758 - val_accuracy: 0.7536\n",
      "Epoch 42/100\n",
      "69/69 - 3s - loss: 0.6758 - accuracy: 0.7428 - val_loss: 0.6752 - val_accuracy: 0.7536\n",
      "Epoch 43/100\n",
      "69/69 - 3s - loss: 0.6751 - accuracy: 0.7464 - val_loss: 0.6745 - val_accuracy: 0.7536\n",
      "Epoch 44/100\n",
      "69/69 - 3s - loss: 0.6740 - accuracy: 0.7464 - val_loss: 0.6738 - val_accuracy: 0.7536\n",
      "Epoch 45/100\n",
      "69/69 - 3s - loss: 0.6759 - accuracy: 0.7464 - val_loss: 0.6733 - val_accuracy: 0.7536\n",
      "Epoch 46/100\n",
      "69/69 - 3s - loss: 0.6734 - accuracy: 0.7464 - val_loss: 0.6726 - val_accuracy: 0.7536\n",
      "Epoch 47/100\n",
      "69/69 - 3s - loss: 0.6739 - accuracy: 0.7464 - val_loss: 0.6719 - val_accuracy: 0.7536\n",
      "Epoch 48/100\n",
      "69/69 - 3s - loss: 0.6722 - accuracy: 0.7464 - val_loss: 0.6712 - val_accuracy: 0.7536\n",
      "Epoch 49/100\n",
      "69/69 - 3s - loss: 0.6712 - accuracy: 0.7464 - val_loss: 0.6704 - val_accuracy: 0.7536\n",
      "Epoch 50/100\n",
      "69/69 - 3s - loss: 0.6688 - accuracy: 0.7464 - val_loss: 0.6696 - val_accuracy: 0.7536\n",
      "Epoch 51/100\n",
      "69/69 - 3s - loss: 0.6721 - accuracy: 0.7464 - val_loss: 0.6688 - val_accuracy: 0.7536\n",
      "Epoch 52/100\n",
      "69/69 - 3s - loss: 0.6693 - accuracy: 0.7464 - val_loss: 0.6680 - val_accuracy: 0.7536\n",
      "Epoch 53/100\n",
      "69/69 - 3s - loss: 0.6671 - accuracy: 0.7464 - val_loss: 0.6672 - val_accuracy: 0.7536\n",
      "Epoch 54/100\n",
      "69/69 - 3s - loss: 0.6680 - accuracy: 0.7464 - val_loss: 0.6664 - val_accuracy: 0.7536\n",
      "Epoch 55/100\n",
      "69/69 - 3s - loss: 0.6665 - accuracy: 0.7464 - val_loss: 0.6654 - val_accuracy: 0.7536\n",
      "Epoch 56/100\n",
      "69/69 - 3s - loss: 0.6665 - accuracy: 0.7464 - val_loss: 0.6646 - val_accuracy: 0.7536\n",
      "Epoch 57/100\n",
      "69/69 - 3s - loss: 0.6642 - accuracy: 0.7464 - val_loss: 0.6635 - val_accuracy: 0.7536\n",
      "Epoch 58/100\n",
      "69/69 - 3s - loss: 0.6660 - accuracy: 0.7464 - val_loss: 0.6626 - val_accuracy: 0.7536\n",
      "Epoch 59/100\n",
      "69/69 - 3s - loss: 0.6632 - accuracy: 0.7464 - val_loss: 0.6617 - val_accuracy: 0.7536\n",
      "Epoch 60/100\n",
      "69/69 - 3s - loss: 0.6617 - accuracy: 0.7464 - val_loss: 0.6605 - val_accuracy: 0.7536\n",
      "Epoch 61/100\n",
      "69/69 - 3s - loss: 0.6607 - accuracy: 0.7464 - val_loss: 0.6595 - val_accuracy: 0.7536\n",
      "Epoch 62/100\n",
      "69/69 - 3s - loss: 0.6651 - accuracy: 0.7464 - val_loss: 0.6585 - val_accuracy: 0.7536\n",
      "Epoch 63/100\n",
      "69/69 - 3s - loss: 0.6558 - accuracy: 0.7464 - val_loss: 0.6573 - val_accuracy: 0.7536\n",
      "Epoch 64/100\n",
      "69/69 - 3s - loss: 0.6581 - accuracy: 0.7464 - val_loss: 0.6561 - val_accuracy: 0.7536\n",
      "Epoch 65/100\n",
      "69/69 - 3s - loss: 0.6542 - accuracy: 0.7464 - val_loss: 0.6548 - val_accuracy: 0.7536\n",
      "Epoch 66/100\n",
      "69/69 - 3s - loss: 0.6545 - accuracy: 0.7464 - val_loss: 0.6535 - val_accuracy: 0.7536\n",
      "Epoch 67/100\n",
      "69/69 - 3s - loss: 0.6557 - accuracy: 0.7464 - val_loss: 0.6522 - val_accuracy: 0.7536\n",
      "Epoch 68/100\n",
      "69/69 - 3s - loss: 0.6511 - accuracy: 0.7464 - val_loss: 0.6508 - val_accuracy: 0.7536\n",
      "Epoch 69/100\n",
      "69/69 - 3s - loss: 0.6535 - accuracy: 0.7464 - val_loss: 0.6495 - val_accuracy: 0.7536\n",
      "Epoch 70/100\n",
      "69/69 - 3s - loss: 0.6480 - accuracy: 0.7464 - val_loss: 0.6479 - val_accuracy: 0.7536\n",
      "Epoch 71/100\n",
      "69/69 - 3s - loss: 0.6475 - accuracy: 0.7464 - val_loss: 0.6464 - val_accuracy: 0.7536\n",
      "Epoch 72/100\n",
      "69/69 - 3s - loss: 0.6467 - accuracy: 0.7464 - val_loss: 0.6448 - val_accuracy: 0.7536\n",
      "Epoch 73/100\n",
      "69/69 - 3s - loss: 0.6405 - accuracy: 0.7464 - val_loss: 0.6430 - val_accuracy: 0.7536\n",
      "Epoch 74/100\n",
      "69/69 - 3s - loss: 0.6440 - accuracy: 0.7464 - val_loss: 0.6415 - val_accuracy: 0.7536\n",
      "Epoch 75/100\n",
      "69/69 - 3s - loss: 0.6402 - accuracy: 0.7464 - val_loss: 0.6396 - val_accuracy: 0.7536\n",
      "Epoch 76/100\n",
      "69/69 - 3s - loss: 0.6418 - accuracy: 0.7428 - val_loss: 0.6379 - val_accuracy: 0.7536\n",
      "Epoch 77/100\n",
      "69/69 - 3s - loss: 0.6394 - accuracy: 0.7464 - val_loss: 0.6362 - val_accuracy: 0.7536\n",
      "Epoch 78/100\n",
      "69/69 - 3s - loss: 0.6363 - accuracy: 0.7464 - val_loss: 0.6344 - val_accuracy: 0.7536\n",
      "Epoch 79/100\n",
      "69/69 - 3s - loss: 0.6368 - accuracy: 0.7464 - val_loss: 0.6326 - val_accuracy: 0.7536\n",
      "Epoch 80/100\n",
      "69/69 - 3s - loss: 0.6368 - accuracy: 0.7464 - val_loss: 0.6307 - val_accuracy: 0.7536\n",
      "Epoch 81/100\n",
      "69/69 - 3s - loss: 0.6341 - accuracy: 0.7464 - val_loss: 0.6289 - val_accuracy: 0.7536\n",
      "Epoch 82/100\n",
      "69/69 - 3s - loss: 0.6304 - accuracy: 0.7464 - val_loss: 0.6270 - val_accuracy: 0.7536\n",
      "Epoch 83/100\n"
     ]
    },
    {
     "name": "stdout",
     "output_type": "stream",
     "text": [
      "69/69 - 3s - loss: 0.6316 - accuracy: 0.7464 - val_loss: 0.6251 - val_accuracy: 0.7536\n",
      "Epoch 84/100\n",
      "69/69 - 3s - loss: 0.6247 - accuracy: 0.7464 - val_loss: 0.6231 - val_accuracy: 0.7536\n",
      "Epoch 85/100\n",
      "69/69 - 3s - loss: 0.6220 - accuracy: 0.7464 - val_loss: 0.6210 - val_accuracy: 0.7536\n",
      "Epoch 86/100\n",
      "69/69 - 3s - loss: 0.6266 - accuracy: 0.7464 - val_loss: 0.6190 - val_accuracy: 0.7536\n",
      "Epoch 87/100\n",
      "69/69 - 3s - loss: 0.6195 - accuracy: 0.7464 - val_loss: 0.6168 - val_accuracy: 0.7536\n",
      "Epoch 88/100\n",
      "69/69 - 3s - loss: 0.6185 - accuracy: 0.7464 - val_loss: 0.6148 - val_accuracy: 0.7536\n",
      "Epoch 89/100\n",
      "69/69 - 3s - loss: 0.6117 - accuracy: 0.7464 - val_loss: 0.6128 - val_accuracy: 0.7536\n",
      "Epoch 90/100\n",
      "69/69 - 3s - loss: 0.6153 - accuracy: 0.7464 - val_loss: 0.6108 - val_accuracy: 0.7536\n",
      "Epoch 91/100\n",
      "69/69 - 3s - loss: 0.6141 - accuracy: 0.7428 - val_loss: 0.6087 - val_accuracy: 0.7536\n",
      "Epoch 92/100\n",
      "69/69 - 3s - loss: 0.6140 - accuracy: 0.7428 - val_loss: 0.6067 - val_accuracy: 0.7536\n",
      "Epoch 93/100\n",
      "69/69 - 3s - loss: 0.6072 - accuracy: 0.7464 - val_loss: 0.6047 - val_accuracy: 0.7536\n",
      "Epoch 94/100\n",
      "69/69 - 3s - loss: 0.6049 - accuracy: 0.7464 - val_loss: 0.6027 - val_accuracy: 0.7536\n",
      "Epoch 95/100\n",
      "69/69 - 3s - loss: 0.5921 - accuracy: 0.7464 - val_loss: 0.6005 - val_accuracy: 0.7536\n",
      "Epoch 96/100\n",
      "69/69 - 3s - loss: 0.6044 - accuracy: 0.7464 - val_loss: 0.5986 - val_accuracy: 0.7536\n",
      "Epoch 97/100\n",
      "69/69 - 3s - loss: 0.6126 - accuracy: 0.7464 - val_loss: 0.5973 - val_accuracy: 0.7536\n",
      "Epoch 98/100\n",
      "69/69 - 3s - loss: 0.6001 - accuracy: 0.7464 - val_loss: 0.5956 - val_accuracy: 0.7536\n",
      "Epoch 99/100\n",
      "69/69 - 4s - loss: 0.5903 - accuracy: 0.7464 - val_loss: 0.5938 - val_accuracy: 0.7536\n",
      "Epoch 100/100\n",
      "69/69 - 3s - loss: 0.6007 - accuracy: 0.7464 - val_loss: 0.5924 - val_accuracy: 0.7536\n"
     ]
    }
   ],
   "source": [
    "num_epochs = 100 #defines epochs\n",
    "\n",
    "history = model.fit(x_token_train, train_target,\n",
    "                    batch_size=batch_size,\n",
    "                    epochs=num_epochs,\n",
    "                    verbose=2,\n",
    "                    shuffle=True,\n",
    "                    validation_split=dev_size)"
   ]
  },
  {
   "cell_type": "code",
   "execution_count": 16,
   "metadata": {},
   "outputs": [
    {
     "data": {
      "image/png": "[encoded data removed]",
      "text/plain": [
       "<Figure size 432x288 with 2 Axes>"
      ]
     },
     "metadata": {
      "needs_background": "light"
     },
     "output_type": "display_data"
    }
   ],
   "source": [
    "# function for drawing the loss and accuracy curves\n",
    "def plot_loss_and_accuracy(history):\n",
    "    \n",
    "    fig, axs = plt.subplots(1, 2, sharex=True)\n",
    "    \n",
    "    axs[0].plot(history.history['loss'])\n",
    "    axs[0].plot(history.history['val_loss'])\n",
    "    axs[0].set_title('Model Loss')\n",
    "    axs[0].legend(['Train', 'Validation'], loc='upper right')\n",
    "    \n",
    "    axs[1].plot(history.history['accuracy'])\n",
    "    axs[1].plot(history.history['val_accuracy'])\n",
    "    axs[1].set_title('Model Accuracy')\n",
    "    axs[1].legend(['Train', 'Validation'], loc='lower right')\n",
    "    \n",
    "    fig.tight_layout()\n",
    "    plt.show()\n",
    "\n",
    "plot_loss_and_accuracy(history)"
   ]
  },
  {
   "cell_type": "markdown",
   "metadata": {},
   "source": [
    "### Save output to csv\n",
    "After you're done save your output to the 'classification_results.csv' csv file.<br/>\n",
    "We assume that the dataframe with your results contain the following columns:\n",
    "* column 1 (left column): 'test_example_id'  - the same id associated to each of the test stories to be predicted.\n",
    "* column 2 (right column): 'predicted_category' - the predicted gender value for each of the associated story. \n",
    "\n",
    "Assuming your predicted values are in the `df_predicted` dataframe, you should save you're results as following:"
   ]
  },
  {
   "cell_type": "code",
   "execution_count": 17,
   "metadata": {},
   "outputs": [],
   "source": [
    "# same preprocessing for stories\n",
    "\n",
    "my_label_predict = model.predict(x_token_test)\n",
    "my_label_predict_argmax = np.argmax(my_label_predict, axis=-1)\n",
    "\n",
    "df = np.asarray(df_test['test_example_id']).reshape(-1,1)\n",
    "array=np.asarray(my_label_predict_argmax).reshape(-1,1)\n",
    "\n",
    "df_predicted = pd.DataFrame(np.concatenate((df, array), axis=1), columns=['test_example_id', 'predicted_category'])"
   ]
  },
  {
   "cell_type": "code",
   "execution_count": 18,
   "metadata": {},
   "outputs": [],
   "source": [
    "df_predicted.to_csv('classification_results.csv',index=False) # save csv"
   ]
  },
  {
   "cell_type": "code",
   "execution_count": 19,
   "metadata": {},
   "outputs": [
    {
     "name": "stdout",
     "output_type": "stream",
     "text": [
      "F1 score is 0.8125000000000001\n"
     ]
    }
   ],
   "source": [
    "from sklearn.metrics import f1_score\n",
    "\n",
    "y_pred = model.predict(x_f1)\n",
    "y_pred = np.argmax(y_pred, axis=-1)\n",
    "y_orig = np.argmax(y_f1, axis=-1)\n",
    "\n",
    "print('F1 score is', f1_score(y_orig, y_pred, average=None)[1])"
   ]
  },
  {
   "cell_type": "code",
   "execution_count": null,
   "metadata": {},
   "outputs": [],
   "source": []
  }
 ],
 "metadata": {
  "kernelspec": {
   "display_name": "Python 3",
   "language": "python",
   "name": "python3"
  },
  "language_info": {
   "codemirror_mode": {
    "name": "ipython",
    "version": 3
   },
   "file_extension": ".py",
   "mimetype": "text/x-python",
   "name": "python",
   "nbconvert_exporter": "python",
   "pygments_lexer": "ipython3",
   "version": "3.7.9"
  }
 },
 "nbformat": 4,
 "nbformat_minor": 4
}
